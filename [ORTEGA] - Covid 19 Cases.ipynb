{
 "cells": [
  {
   "cell_type": "markdown",
   "metadata": {},
   "source": [
    "<h1> Tidy Tuesdays 1 </h1>\n",
    "<h3> 2020 Covid-19 Cases </h3>\n",
    "\n",
    "Made by : Azriel Matthew O. Ortega"
   ]
  },
  {
   "cell_type": "code",
   "execution_count": 153,
   "metadata": {},
   "outputs": [],
   "source": [
    "# Data analysis and data preparation\n",
    "import pandas as pd\n",
    "import numpy as np\n",
    "import random as rnd\n",
    "\n",
    "# Data visualization\n",
    "import seaborn as sns\n",
    "import matplotlib as plt\n",
    "%matplotlib inline"
   ]
  },
  {
   "cell_type": "markdown",
   "metadata": {},
   "source": [
    "<h2>DATA CLEANING</h2>"
   ]
  },
  {
   "cell_type": "code",
   "execution_count": 154,
   "metadata": {},
   "outputs": [
    {
     "data": {
      "text/html": [
       "<div>\n",
       "<style scoped>\n",
       "    .dataframe tbody tr th:only-of-type {\n",
       "        vertical-align: middle;\n",
       "    }\n",
       "\n",
       "    .dataframe tbody tr th {\n",
       "        vertical-align: top;\n",
       "    }\n",
       "\n",
       "    .dataframe thead th {\n",
       "        text-align: right;\n",
       "    }\n",
       "</style>\n",
       "<table border=\"1\" class=\"dataframe\">\n",
       "  <thead>\n",
       "    <tr style=\"text-align: right;\">\n",
       "      <th></th>\n",
       "      <th>SNo</th>\n",
       "      <th>ObservationDate</th>\n",
       "      <th>Province/State</th>\n",
       "      <th>Country/Region</th>\n",
       "      <th>Last Update</th>\n",
       "      <th>Confirmed</th>\n",
       "      <th>Deaths</th>\n",
       "      <th>Recovered</th>\n",
       "    </tr>\n",
       "  </thead>\n",
       "  <tbody>\n",
       "    <tr>\n",
       "      <th>0</th>\n",
       "      <td>1</td>\n",
       "      <td>01/22/2020</td>\n",
       "      <td>Anhui</td>\n",
       "      <td>Mainland China</td>\n",
       "      <td>1/22/2020 17:00</td>\n",
       "      <td>1</td>\n",
       "      <td>0</td>\n",
       "      <td>0</td>\n",
       "    </tr>\n",
       "    <tr>\n",
       "      <th>1</th>\n",
       "      <td>2</td>\n",
       "      <td>01/22/2020</td>\n",
       "      <td>Beijing</td>\n",
       "      <td>Mainland China</td>\n",
       "      <td>1/22/2020 17:00</td>\n",
       "      <td>14</td>\n",
       "      <td>0</td>\n",
       "      <td>0</td>\n",
       "    </tr>\n",
       "    <tr>\n",
       "      <th>2</th>\n",
       "      <td>3</td>\n",
       "      <td>01/22/2020</td>\n",
       "      <td>Chongqing</td>\n",
       "      <td>Mainland China</td>\n",
       "      <td>1/22/2020 17:00</td>\n",
       "      <td>6</td>\n",
       "      <td>0</td>\n",
       "      <td>0</td>\n",
       "    </tr>\n",
       "    <tr>\n",
       "      <th>3</th>\n",
       "      <td>4</td>\n",
       "      <td>01/22/2020</td>\n",
       "      <td>Fujian</td>\n",
       "      <td>Mainland China</td>\n",
       "      <td>1/22/2020 17:00</td>\n",
       "      <td>1</td>\n",
       "      <td>0</td>\n",
       "      <td>0</td>\n",
       "    </tr>\n",
       "    <tr>\n",
       "      <th>4</th>\n",
       "      <td>5</td>\n",
       "      <td>01/22/2020</td>\n",
       "      <td>Gansu</td>\n",
       "      <td>Mainland China</td>\n",
       "      <td>1/22/2020 17:00</td>\n",
       "      <td>0</td>\n",
       "      <td>0</td>\n",
       "      <td>0</td>\n",
       "    </tr>\n",
       "  </tbody>\n",
       "</table>\n",
       "</div>"
      ],
      "text/plain": [
       "   SNo ObservationDate Province/State  Country/Region      Last Update  \\\n",
       "0    1      01/22/2020          Anhui  Mainland China  1/22/2020 17:00   \n",
       "1    2      01/22/2020        Beijing  Mainland China  1/22/2020 17:00   \n",
       "2    3      01/22/2020      Chongqing  Mainland China  1/22/2020 17:00   \n",
       "3    4      01/22/2020         Fujian  Mainland China  1/22/2020 17:00   \n",
       "4    5      01/22/2020          Gansu  Mainland China  1/22/2020 17:00   \n",
       "\n",
       "   Confirmed  Deaths  Recovered  \n",
       "0          1       0          0  \n",
       "1         14       0          0  \n",
       "2          6       0          0  \n",
       "3          1       0          0  \n",
       "4          0       0          0  "
      ]
     },
     "execution_count": 154,
     "metadata": {},
     "output_type": "execute_result"
    }
   ],
   "source": [
    "covid = pd.read_csv('covid_19_data.csv')\n",
    "\n",
    "#check if data set is successfully transfered\n",
    "covid.head()"
   ]
  },
  {
   "cell_type": "code",
   "execution_count": 155,
   "metadata": {},
   "outputs": [
    {
     "data": {
      "text/plain": [
       "(236017, 8)"
      ]
     },
     "execution_count": 155,
     "metadata": {},
     "output_type": "execute_result"
    }
   ],
   "source": [
    "#check how many datas are there\n",
    "covid.shape"
   ]
  },
  {
   "cell_type": "code",
   "execution_count": 156,
   "metadata": {},
   "outputs": [
    {
     "data": {
      "text/plain": [
       "Index(['SNo', 'ObservationDate', 'Province/State', 'Country/Region',\n",
       "       'Last Update', 'Confirmed', 'Deaths', 'Recovered'],\n",
       "      dtype='object')"
      ]
     },
     "execution_count": 156,
     "metadata": {},
     "output_type": "execute_result"
    }
   ],
   "source": [
    "#check all columns\n",
    "covid.columns"
   ]
  },
  {
   "cell_type": "code",
   "execution_count": 157,
   "metadata": {},
   "outputs": [
    {
     "data": {
      "text/plain": [
       "SNo                    0\n",
       "ObservationDate        0\n",
       "Province/State     62045\n",
       "Country/Region         0\n",
       "Last Update            0\n",
       "Confirmed              0\n",
       "Deaths                 0\n",
       "Recovered              0\n",
       "dtype: int64"
      ]
     },
     "execution_count": 157,
     "metadata": {},
     "output_type": "execute_result"
    }
   ],
   "source": [
    "#check for null values\n",
    "covid.isnull().sum()"
   ]
  },
  {
   "cell_type": "code",
   "execution_count": 158,
   "metadata": {},
   "outputs": [
    {
     "data": {
      "text/html": [
       "<div>\n",
       "<style scoped>\n",
       "    .dataframe tbody tr th:only-of-type {\n",
       "        vertical-align: middle;\n",
       "    }\n",
       "\n",
       "    .dataframe tbody tr th {\n",
       "        vertical-align: top;\n",
       "    }\n",
       "\n",
       "    .dataframe thead th {\n",
       "        text-align: right;\n",
       "    }\n",
       "</style>\n",
       "<table border=\"1\" class=\"dataframe\">\n",
       "  <thead>\n",
       "    <tr style=\"text-align: right;\">\n",
       "      <th></th>\n",
       "      <th>SNo</th>\n",
       "      <th>ObservationDate</th>\n",
       "      <th>Country/Region</th>\n",
       "      <th>Confirmed</th>\n",
       "      <th>Deaths</th>\n",
       "      <th>Recovered</th>\n",
       "    </tr>\n",
       "  </thead>\n",
       "  <tbody>\n",
       "    <tr>\n",
       "      <th>0</th>\n",
       "      <td>1</td>\n",
       "      <td>01/22/2020</td>\n",
       "      <td>Mainland China</td>\n",
       "      <td>1</td>\n",
       "      <td>0</td>\n",
       "      <td>0</td>\n",
       "    </tr>\n",
       "    <tr>\n",
       "      <th>1</th>\n",
       "      <td>2</td>\n",
       "      <td>01/22/2020</td>\n",
       "      <td>Mainland China</td>\n",
       "      <td>14</td>\n",
       "      <td>0</td>\n",
       "      <td>0</td>\n",
       "    </tr>\n",
       "    <tr>\n",
       "      <th>2</th>\n",
       "      <td>3</td>\n",
       "      <td>01/22/2020</td>\n",
       "      <td>Mainland China</td>\n",
       "      <td>6</td>\n",
       "      <td>0</td>\n",
       "      <td>0</td>\n",
       "    </tr>\n",
       "    <tr>\n",
       "      <th>3</th>\n",
       "      <td>4</td>\n",
       "      <td>01/22/2020</td>\n",
       "      <td>Mainland China</td>\n",
       "      <td>1</td>\n",
       "      <td>0</td>\n",
       "      <td>0</td>\n",
       "    </tr>\n",
       "    <tr>\n",
       "      <th>4</th>\n",
       "      <td>5</td>\n",
       "      <td>01/22/2020</td>\n",
       "      <td>Mainland China</td>\n",
       "      <td>0</td>\n",
       "      <td>0</td>\n",
       "      <td>0</td>\n",
       "    </tr>\n",
       "  </tbody>\n",
       "</table>\n",
       "</div>"
      ],
      "text/plain": [
       "   SNo ObservationDate  Country/Region  Confirmed  Deaths  Recovered\n",
       "0    1      01/22/2020  Mainland China          1       0          0\n",
       "1    2      01/22/2020  Mainland China         14       0          0\n",
       "2    3      01/22/2020  Mainland China          6       0          0\n",
       "3    4      01/22/2020  Mainland China          1       0          0\n",
       "4    5      01/22/2020  Mainland China          0       0          0"
      ]
     },
     "execution_count": 158,
     "metadata": {},
     "output_type": "execute_result"
    }
   ],
   "source": [
    "#drop uneccessary columns\n",
    "to_drop =['Province/State', 'Last Update']\n",
    "\n",
    "covid_new = covid.drop(to_drop, axis = 1)\n",
    "\n",
    "covid_new.head()\n"
   ]
  },
  {
   "cell_type": "code",
   "execution_count": 159,
   "metadata": {
    "scrolled": true
   },
   "outputs": [
    {
     "name": "stdout",
     "output_type": "stream",
     "text": [
      "int64\n",
      "object\n",
      "object\n",
      "int64\n",
      "int64\n",
      "int64\n"
     ]
    }
   ],
   "source": [
    "#check all data types\n",
    "col1 = covid_new['SNo'].dtype\n",
    "col2 = covid_new['ObservationDate'].dtype\n",
    "col3 = covid_new['Country/Region'].dtype\n",
    "col4 = covid_new['Confirmed'].dtype\n",
    "col5 = covid_new['Deaths'].dtype\n",
    "col6 = covid_new['Recovered'].dtype\n",
    "\n",
    "print(col1)\n",
    "print(col2)\n",
    "print(col3)\n",
    "print(col4)\n",
    "print(col5)\n",
    "print(col6)"
   ]
  },
  {
   "cell_type": "code",
   "execution_count": 160,
   "metadata": {},
   "outputs": [
    {
     "name": "stdout",
     "output_type": "stream",
     "text": [
      "(236017, 6)\n",
      "    SNo ObservationDate  Country/Region  Confirmed  Deaths  Recovered\n",
      "0     1      01/22/2020  Mainland China          1       0          0\n",
      "1     2      01/22/2020  Mainland China         14       0          0\n",
      "2     3      01/22/2020  Mainland China          6       0          0\n",
      "3     4      01/22/2020  Mainland China          1       0          0\n",
      "4     5      01/22/2020  Mainland China          0       0          0\n",
      "5     6      01/22/2020  Mainland China         26       0          0\n",
      "6     7      01/22/2020  Mainland China          2       0          0\n",
      "7     8      01/22/2020  Mainland China          1       0          0\n",
      "8     9      01/22/2020  Mainland China          4       0          0\n",
      "9    10      01/22/2020  Mainland China          1       0          0\n",
      "10   11      01/22/2020  Mainland China          0       0          0\n",
      "11   12      01/22/2020  Mainland China          5       0          0\n",
      "12   13      01/22/2020       Hong Kong          0       0          0\n",
      "13   14      01/22/2020  Mainland China        444      17         28\n",
      "14   15      01/22/2020  Mainland China          4       0          0\n",
      "15   16      01/22/2020  Mainland China          0       0          0\n",
      "16   17      01/22/2020  Mainland China          1       0          0\n",
      "17   18      01/22/2020  Mainland China          2       0          0\n",
      "18   19      01/22/2020  Mainland China          0       0          0\n",
      "19   20      01/22/2020  Mainland China          2       0          0\n"
     ]
    }
   ],
   "source": [
    "#remove negative values in confirmed, deaths and recovered columns\n",
    "test = covid_new\n",
    "\n",
    "print(test.shape)\n",
    "\n",
    "test = test.loc[test['Confirmed'] >= 0]\n",
    "test = test.loc[test['Deaths'] >= 0]\n",
    "test = test.loc[test['Recovered'] >= 0]\n",
    "\n",
    "print(test.head(20))\n",
    "covid_new = test"
   ]
  },
  {
   "cell_type": "code",
   "execution_count": 161,
   "metadata": {},
   "outputs": [
    {
     "name": "stdout",
     "output_type": "stream",
     "text": [
      "Empty DataFrame\n",
      "Columns: [SNo, ObservationDate, Country/Region, Confirmed, Deaths, Recovered]\n",
      "Index: []\n"
     ]
    }
   ],
   "source": [
    "#check for duplicated data\n",
    "\n",
    "duplicate = test[test.duplicated()]\n",
    "print(duplicate)\n",
    "\n",
    "#since dataframe is empty, no need to delete duplicated data"
   ]
  },
  {
   "cell_type": "markdown",
   "metadata": {},
   "source": [
    "<h2>DATA ANALYSIS</h2>"
   ]
  },
  {
   "cell_type": "markdown",
   "metadata": {},
   "source": [
    "Below is a table showing the total number of active cases recorded in the country ever since from the starting date where the virus is seen and the last date where the virus is seen. As we read the data we can see that each country has an upward trend in their covid cases. Some countries/regions have an exponential trend with there total number of confirmed cases."
   ]
  },
  {
   "cell_type": "code",
   "execution_count": 162,
   "metadata": {},
   "outputs": [
    {
     "name": "stdout",
     "output_type": "stream",
     "text": [
      "(69085,)\n",
      "Country/Region  ObservationDate\n",
      "Portugal        01/07/2021         456533\n",
      "                01/08/2021         466709\n",
      "                01/09/2021         476187\n",
      "                01/10/2021         483689\n",
      "                01/11/2021         489293\n",
      "                01/12/2021         496552\n",
      "                01/13/2021         507108\n",
      "                01/14/2021         517806\n",
      "                01/15/2021         528469\n",
      "                01/16/2021         539416\n",
      "                01/17/2021         549801\n",
      "                01/18/2021         556503\n",
      "                01/19/2021         566958\n",
      "                01/20/2021         581605\n",
      "                01/21/2021         595149\n",
      "                01/22/2021         609136\n",
      "                01/23/2021         624469\n",
      "                01/24/2021         636190\n",
      "                01/25/2021         643113\n",
      "                01/26/2021         653878\n",
      "Name: Confirmed, dtype: int64\n"
     ]
    }
   ],
   "source": [
    "#get all records of confirmed cases of the countries\n",
    "\n",
    "dump = covid_new.groupby(['Country/Region','ObservationDate']).Confirmed.sum()\n",
    "print(dump.shape)\n",
    "print(dump[50000:50020])"
   ]
  },
  {
   "cell_type": "markdown",
   "metadata": {},
   "source": [
    "Below is also the table for the total number of deaths and total number of recovered people in each country."
   ]
  },
  {
   "cell_type": "code",
   "execution_count": 163,
   "metadata": {},
   "outputs": [
    {
     "name": "stdout",
     "output_type": "stream",
     "text": [
      "(69085,)\n",
      "Country/Region  ObservationDate\n",
      "Portugal        01/07/2021          7472\n",
      "                01/08/2021          7590\n",
      "                01/09/2021          7701\n",
      "                01/10/2021          7803\n",
      "                01/11/2021          7925\n",
      "                01/12/2021          8080\n",
      "                01/13/2021          8236\n",
      "                01/14/2021          8384\n",
      "                01/15/2021          8543\n",
      "                01/16/2021          8709\n",
      "                01/17/2021          8861\n",
      "                01/18/2021          9028\n",
      "                01/19/2021          9246\n",
      "                01/20/2021          9465\n",
      "                01/21/2021          9686\n",
      "                01/22/2021          9920\n",
      "                01/23/2021         10194\n",
      "                01/24/2021         10469\n",
      "                01/25/2021         10721\n",
      "                01/26/2021         11012\n",
      "Name: Deaths, dtype: int64\n"
     ]
    }
   ],
   "source": [
    "#get all records of death cases of the countries\n",
    "\n",
    "dump = covid_new.groupby(['Country/Region','ObservationDate']).Deaths.sum()\n",
    "print(dump.shape)\n",
    "print(dump[50000:50020])"
   ]
  },
  {
   "cell_type": "code",
   "execution_count": 164,
   "metadata": {},
   "outputs": [
    {
     "name": "stdout",
     "output_type": "stream",
     "text": [
      "(69085,)\n",
      "Country/Region   ObservationDate\n",
      " Azerbaijan      02/28/2020             0\n",
      "('St. Martin',)  03/10/2020             0\n",
      "Afghanistan      01/01/2021         41727\n",
      "                 01/02/2021         41727\n",
      "                 01/03/2021         41727\n",
      "                 01/04/2021         42530\n",
      "                 01/05/2021         42666\n",
      "                 01/06/2021         42666\n",
      "                 01/07/2021         43291\n",
      "                 01/08/2021         43440\n",
      "                 01/09/2021         43740\n",
      "                 01/10/2021         43948\n",
      "                 01/11/2021         44137\n",
      "                 01/12/2021         44608\n",
      "                 01/13/2021         44850\n",
      "                 01/14/2021         45298\n",
      "                 01/15/2021         45434\n",
      "                 01/16/2021         45465\n",
      "                 01/17/2021         45868\n",
      "                 01/18/2021         46359\n",
      "Name: Recovered, dtype: int64\n"
     ]
    }
   ],
   "source": [
    "#get all records of recovered cases of the countries\n",
    "\n",
    "dump = covid_new.groupby(['Country/Region','ObservationDate']).Recovered.sum()\n",
    "print(dump.shape)\n",
    "print(dump.head(20))"
   ]
  },
  {
   "cell_type": "code",
   "execution_count": 191,
   "metadata": {},
   "outputs": [
    {
     "name": "stdout",
     "output_type": "stream",
     "text": [
      "   SNo ObservationDate  Country/Region  Active  Confirmed  Deaths  Recovered\n",
      "0    1      01/22/2020  Mainland China       1          1       0          0\n",
      "1    2      01/22/2020  Mainland China      14         14       0          0\n",
      "2    3      01/22/2020  Mainland China       6          6       0          0\n",
      "3    4      01/22/2020  Mainland China       1          1       0          0\n",
      "4    5      01/22/2020  Mainland China       0          0       0          0\n",
      "(69085,)\n",
      "Country/Region   ObservationDate\n",
      " Azerbaijan      02/28/2020            1\n",
      "('St. Martin',)  03/10/2020            2\n",
      "Afghanistan      01/01/2021         7608\n",
      "                 01/02/2021         7608\n",
      "                 01/03/2021         7608\n",
      "                 01/04/2021         8244\n",
      "                 01/05/2021         8195\n",
      "                 01/06/2021         8195\n",
      "                 01/07/2021         7663\n",
      "                 01/08/2021         7635\n",
      "                 01/09/2021         7396\n",
      "                 01/10/2021         7264\n",
      "                 01/11/2021         7113\n",
      "                 01/12/2021         6675\n",
      "                 01/13/2021         6433\n",
      "                 01/14/2021         6163\n",
      "                 01/15/2021         6073\n",
      "                 01/16/2021         6137\n",
      "                 01/17/2021         5777\n",
      "                 01/18/2021         5360\n",
      "Name: Active, dtype: int64\n"
     ]
    }
   ],
   "source": [
    "#get all records of active cases of the countries\n",
    "active = covid_new['Confirmed'] - (covid_new['Deaths'] + covid_new['Recovered'])\n",
    "\n",
    "#insert active cases\n",
    "#covid_new.insert(3, \"Active\", active, True)\n",
    "covid_new = covid_new.loc[:,~covid_new.columns.duplicated()] #remove duplicated columns when inserting\n",
    "print(covid_new.head())\n",
    "\n",
    "dump = covid_new.groupby(['Country/Region','ObservationDate']).Active.sum()\n",
    "print(dump.shape)\n",
    "print(dump.head(20))"
   ]
  },
  {
   "cell_type": "code",
   "execution_count": 209,
   "metadata": {},
   "outputs": [
    {
     "name": "stdout",
     "output_type": "stream",
     "text": [
      "Country/Region                  ObservationDate\n",
      "Togo                            12/31/2020           172\n",
      "Trinidad and Tobago             12/31/2020           373\n",
      "Tunisia                         12/31/2020         29100\n",
      "Turkey                          12/31/2020         87121\n",
      "UK                              12/31/2020           795\n",
      "US                              12/31/2020           100\n",
      "Uganda                          12/31/2020         23232\n",
      "Ukraine                         12/31/2020          4425\n",
      "United Arab Emirates            12/31/2020         22711\n",
      "Uruguay                         12/31/2020          5470\n",
      "Uzbekistan                      12/31/2020          1503\n",
      "Vanuatu                         12/31/2020             0\n",
      "Vatican City                    03/09/2020             1\n",
      "Venezuela                       12/31/2020          4947\n",
      "Vietnam                         12/31/2020           105\n",
      "West Bank and Gaza              12/31/2020         19421\n",
      "Yemen                           12/31/2020            95\n",
      "Zambia                          12/31/2020          1677\n",
      "Zimbabwe                        12/31/2020          2254\n",
      "occupied Palestinian territory  03/17/2020             0\n",
      "Name: Active, dtype: int64\n"
     ]
    }
   ],
   "source": [
    "#get the latest data and get its current active cases\n",
    "\n",
    "latest = covid_new.sort_values(by=\"ObservationDate\").drop_duplicates(subset=['Country/Region'], keep =\"last\")\n",
    "latest = latest.groupby(['Country/Region','ObservationDate']).Active.sum()\n",
    "print(latest.tail(20))"
   ]
  },
  {
   "cell_type": "markdown",
   "metadata": {},
   "source": [
    "Based on the data, there are some countries that have managed to recover and reduced the new active cases found today. Countries such as Australia have recovered and have no more active cases in their country. Howerver not every country is lucky, countries such as Philippines still have an upward trend with their confirmed cases found in their country."
   ]
  },
  {
   "cell_type": "markdown",
   "metadata": {},
   "source": [
    "<h2>DATA VISUALIZATION</h2>"
   ]
  },
  {
   "cell_type": "code",
   "execution_count": 350,
   "metadata": {},
   "outputs": [
    {
     "ename": "ValueError",
     "evalue": "not enough values to unpack (expected 2, got 0)",
     "output_type": "error",
     "traceback": [
      "\u001b[1;31m---------------------------------------------------------------------------\u001b[0m",
      "\u001b[1;31mValueError\u001b[0m                                Traceback (most recent call last)",
      "\u001b[1;32m<ipython-input-350-05d0e6e776c4>\u001b[0m in \u001b[0;36m<module>\u001b[1;34m\u001b[0m\n\u001b[0;32m      3\u001b[0m \u001b[1;32mimport\u001b[0m \u001b[0mmatplotlib\u001b[0m \u001b[1;32mas\u001b[0m \u001b[0mplt\u001b[0m\u001b[1;33m\u001b[0m\u001b[1;33m\u001b[0m\u001b[0m\n\u001b[0;32m      4\u001b[0m \u001b[1;33m\u001b[0m\u001b[0m\n\u001b[1;32m----> 5\u001b[1;33m \u001b[0mlatest\u001b[0m \u001b[1;33m=\u001b[0m \u001b[0mcovid_new\u001b[0m\u001b[1;33m.\u001b[0m\u001b[0msort_values\u001b[0m\u001b[1;33m(\u001b[0m\u001b[0mby\u001b[0m\u001b[1;33m=\u001b[0m\u001b[1;34m\"ObservationDate\"\u001b[0m\u001b[1;33m)\u001b[0m\u001b[1;33m.\u001b[0m\u001b[0mdrop_duplicates\u001b[0m\u001b[1;33m(\u001b[0m\u001b[0msubset\u001b[0m\u001b[1;33m=\u001b[0m\u001b[1;33m[\u001b[0m\u001b[1;33m]\u001b[0m\u001b[1;33m,\u001b[0m \u001b[0mkeep\u001b[0m \u001b[1;33m=\u001b[0m\u001b[1;34m\"last\"\u001b[0m\u001b[1;33m)\u001b[0m\u001b[1;33m\u001b[0m\u001b[1;33m\u001b[0m\u001b[0m\n\u001b[0m\u001b[0;32m      6\u001b[0m \u001b[1;33m\u001b[0m\u001b[0m\n\u001b[0;32m      7\u001b[0m \u001b[0mprint\u001b[0m\u001b[1;33m(\u001b[0m\u001b[0mlatest\u001b[0m\u001b[1;33m.\u001b[0m\u001b[0mhead\u001b[0m\u001b[1;33m)\u001b[0m\u001b[1;33m\u001b[0m\u001b[1;33m\u001b[0m\u001b[0m\n",
      "\u001b[1;32m~\\anaconda3\\lib\\site-packages\\pandas\\core\\frame.py\u001b[0m in \u001b[0;36mdrop_duplicates\u001b[1;34m(self, subset, keep, inplace, ignore_index)\u001b[0m\n\u001b[0;32m   5106\u001b[0m \u001b[1;33m\u001b[0m\u001b[0m\n\u001b[0;32m   5107\u001b[0m         \u001b[0minplace\u001b[0m \u001b[1;33m=\u001b[0m \u001b[0mvalidate_bool_kwarg\u001b[0m\u001b[1;33m(\u001b[0m\u001b[0minplace\u001b[0m\u001b[1;33m,\u001b[0m \u001b[1;34m\"inplace\"\u001b[0m\u001b[1;33m)\u001b[0m\u001b[1;33m\u001b[0m\u001b[1;33m\u001b[0m\u001b[0m\n\u001b[1;32m-> 5108\u001b[1;33m         \u001b[0mduplicated\u001b[0m \u001b[1;33m=\u001b[0m \u001b[0mself\u001b[0m\u001b[1;33m.\u001b[0m\u001b[0mduplicated\u001b[0m\u001b[1;33m(\u001b[0m\u001b[0msubset\u001b[0m\u001b[1;33m,\u001b[0m \u001b[0mkeep\u001b[0m\u001b[1;33m=\u001b[0m\u001b[0mkeep\u001b[0m\u001b[1;33m)\u001b[0m\u001b[1;33m\u001b[0m\u001b[1;33m\u001b[0m\u001b[0m\n\u001b[0m\u001b[0;32m   5109\u001b[0m \u001b[1;33m\u001b[0m\u001b[0m\n\u001b[0;32m   5110\u001b[0m         \u001b[0mresult\u001b[0m \u001b[1;33m=\u001b[0m \u001b[0mself\u001b[0m\u001b[1;33m[\u001b[0m\u001b[1;33m-\u001b[0m\u001b[0mduplicated\u001b[0m\u001b[1;33m]\u001b[0m\u001b[1;33m\u001b[0m\u001b[1;33m\u001b[0m\u001b[0m\n",
      "\u001b[1;32m~\\anaconda3\\lib\\site-packages\\pandas\\core\\frame.py\u001b[0m in \u001b[0;36mduplicated\u001b[1;34m(self, subset, keep)\u001b[0m\n\u001b[0;32m   5245\u001b[0m \u001b[1;33m\u001b[0m\u001b[0m\n\u001b[0;32m   5246\u001b[0m         \u001b[0mvals\u001b[0m \u001b[1;33m=\u001b[0m \u001b[1;33m(\u001b[0m\u001b[0mcol\u001b[0m\u001b[1;33m.\u001b[0m\u001b[0mvalues\u001b[0m \u001b[1;32mfor\u001b[0m \u001b[0mname\u001b[0m\u001b[1;33m,\u001b[0m \u001b[0mcol\u001b[0m \u001b[1;32min\u001b[0m \u001b[0mself\u001b[0m\u001b[1;33m.\u001b[0m\u001b[0mitems\u001b[0m\u001b[1;33m(\u001b[0m\u001b[1;33m)\u001b[0m \u001b[1;32mif\u001b[0m \u001b[0mname\u001b[0m \u001b[1;32min\u001b[0m \u001b[0msubset\u001b[0m\u001b[1;33m)\u001b[0m\u001b[1;33m\u001b[0m\u001b[1;33m\u001b[0m\u001b[0m\n\u001b[1;32m-> 5247\u001b[1;33m         \u001b[0mlabels\u001b[0m\u001b[1;33m,\u001b[0m \u001b[0mshape\u001b[0m \u001b[1;33m=\u001b[0m \u001b[0mmap\u001b[0m\u001b[1;33m(\u001b[0m\u001b[0mlist\u001b[0m\u001b[1;33m,\u001b[0m \u001b[0mzip\u001b[0m\u001b[1;33m(\u001b[0m\u001b[1;33m*\u001b[0m\u001b[0mmap\u001b[0m\u001b[1;33m(\u001b[0m\u001b[0mf\u001b[0m\u001b[1;33m,\u001b[0m \u001b[0mvals\u001b[0m\u001b[1;33m)\u001b[0m\u001b[1;33m)\u001b[0m\u001b[1;33m)\u001b[0m\u001b[1;33m\u001b[0m\u001b[1;33m\u001b[0m\u001b[0m\n\u001b[0m\u001b[0;32m   5248\u001b[0m \u001b[1;33m\u001b[0m\u001b[0m\n\u001b[0;32m   5249\u001b[0m         \u001b[0mids\u001b[0m \u001b[1;33m=\u001b[0m \u001b[0mget_group_index\u001b[0m\u001b[1;33m(\u001b[0m\u001b[0mlabels\u001b[0m\u001b[1;33m,\u001b[0m \u001b[0mshape\u001b[0m\u001b[1;33m,\u001b[0m \u001b[0msort\u001b[0m\u001b[1;33m=\u001b[0m\u001b[1;32mFalse\u001b[0m\u001b[1;33m,\u001b[0m \u001b[0mxnull\u001b[0m\u001b[1;33m=\u001b[0m\u001b[1;32mFalse\u001b[0m\u001b[1;33m)\u001b[0m\u001b[1;33m\u001b[0m\u001b[1;33m\u001b[0m\u001b[0m\n",
      "\u001b[1;31mValueError\u001b[0m: not enough values to unpack (expected 2, got 0)"
     ]
    }
   ],
   "source": [
    "# Data visualization\n",
    "import seaborn as sns\n",
    "import matplotlib as plt\n",
    "\n",
    "latest = covid_new.sort_values(by=\"ObservationDate\").drop_duplicates(subset=['Country/Region'], keep =\"last\")\n",
    "\n",
    "print(latest.head)\n",
    "\n",
    "latest = test1\n",
    "\n",
    "#get active column                                                  \n",
    "#active = latest.groupby(['Country/Region']).Active.sum()\n",
    "active = active.to_frame()\n",
    "active = active['Active']\n",
    "print(active)\n",
    "\n",
    "#get country/region column\n",
    "test = covid_new.sort_values(by = 'Country/Region')\n",
    "country = test['Country/Region'].unique()\n",
    "\n",
    "data = pd.DataFrame(country)\n",
    "#data.insert(2, \"Active\", active, True)\n",
    "#print(data.columns)\n",
    "#get country/region column"
   ]
  },
  {
   "cell_type": "code",
   "execution_count": 284,
   "metadata": {},
   "outputs": [
    {
     "data": {
      "text/plain": [
       "<seaborn.axisgrid.FacetGrid at 0x25ed28fa9a0>"
      ]
     },
     "execution_count": 284,
     "metadata": {},
     "output_type": "execute_result"
    },
    {
     "data": {
      "image/png": "[encoded data removed]",
      "text/plain": [
       "<Figure size 360x360 with 1 Axes>"
      ]
     },
     "metadata": {
      "needs_background": "light"
     },
     "output_type": "display_data"
    }
   ],
   "source": []
  },
  {
   "cell_type": "code",
   "execution_count": 271,
   "metadata": {},
   "outputs": [
    {
     "data": {
      "text/plain": [
       "Index(['Active'], dtype='object')"
      ]
     },
     "execution_count": 271,
     "metadata": {},
     "output_type": "execute_result"
    }
   ],
   "source": []
  },
  {
   "cell_type": "code",
   "execution_count": null,
   "metadata": {},
   "outputs": [],
   "source": []
  }
 ],
 "metadata": {
  "kernelspec": {
   "display_name": "Python 3",
   "language": "python",
   "name": "python3"
  },
  "language_info": {
   "codemirror_mode": {
    "name": "ipython",
    "version": 3
   },
   "file_extension": ".py",
   "mimetype": "text/x-python",
   "name": "python",
   "nbconvert_exporter": "python",
   "pygments_lexer": "ipython3",
   "version": "3.8.5"
  }
 },
 "nbformat": 4,
 "nbformat_minor": 4
}
